{
 "cells": [
  {
   "cell_type": "code",
   "execution_count": 23,
   "id": "940b3042-769b-49d1-8666-054f4daae713",
   "metadata": {},
   "outputs": [],
   "source": [
    "import numpy as np\n",
    "import sys"
   ]
  },
  {
   "cell_type": "code",
   "execution_count": 24,
   "id": "f2589b3b-73ee-47d3-b688-b3e4d8d086b4",
   "metadata": {},
   "outputs": [
    {
     "name": "stdin",
     "output_type": "stream",
     "text": [
      "enter the number of nodes 7\n",
      "enter the first node:  0\n",
      "enter the second node:  1\n",
      "enter the path:  3\n",
      "enter the first node:  0\n",
      "enter the second node:  2\n",
      "enter the path:  5\n",
      "enter the first node:  1\n",
      "enter the second node:  2\n",
      "enter the path:  4\n",
      "enter the first node:  2\n",
      "enter the second node:  3\n",
      "enter the path:  4\n",
      "enter the first node:  3\n",
      "enter the second node:  5\n",
      "enter the path:  6\n",
      "enter the first node:  1\n",
      "enter the second node:  4\n",
      "enter the path:  3\n",
      "enter the first node:  4\n",
      "enter the second node:  6\n",
      "enter the path:  5\n",
      "enter the first node:  -1\n",
      "enter the second node:  -1\n",
      "enter the path:  -1\n"
     ]
    },
    {
     "name": "stdout",
     "output_type": "stream",
     "text": [
      "[[0. 3. 5. 0. 0. 0. 0.]\n",
      " [3. 0. 4. 0. 3. 0. 0.]\n",
      " [5. 4. 0. 4. 0. 0. 0.]\n",
      " [0. 0. 4. 0. 0. 6. 0.]\n",
      " [0. 3. 0. 0. 0. 0. 5.]\n",
      " [0. 0. 0. 6. 0. 0. 0.]\n",
      " [0. 0. 0. 0. 5. 0. 0.]]\n"
     ]
    },
    {
     "name": "stdin",
     "output_type": "stream",
     "text": [
      "enter the source node:  0\n",
      "enter the dest node:  6\n"
     ]
    }
   ],
   "source": [
    "n=int(input(\"enter the number of nodes\"))\n",
    "graph_path=np.zeros([n,n])\n",
    "s = 1\n",
    "p = 1\n",
    "s=int(input(\"enter the first node: \"))\n",
    "p=int(input(\"enter the second node: \"))\n",
    "pat=int(input(\"enter the path: \"))\n",
    "while(s!=-1 and p!=-1 and p!=-1):\n",
    "    graph_path[p][s]=pat\n",
    "    graph_path[s][p]=pat\n",
    "    s=int(input(\"enter the first node: \"))\n",
    "    p=int(input(\"enter the second node: \"))\n",
    "    pat=int(input(\"enter the path: \"))\n",
    "print(graph_path)\n",
    "source=int(input(\"enter the source node: \"))\n",
    "dest=int(input(\"enter the dest node: \"))"
   ]
  },
  {
   "cell_type": "code",
   "execution_count": 25,
   "id": "58afc193-e07d-4276-9aaa-14b8c93fe75e",
   "metadata": {},
   "outputs": [],
   "source": [
    "trav=[]\n",
    "path=[]\n",
    "path.append([source])\n",
    "count=0\n",
    "k=1"
   ]
  },
  {
   "cell_type": "code",
   "execution_count": 26,
   "id": "8616e69e-4fa3-40c4-89ba-5180c06cd9a6",
   "metadata": {},
   "outputs": [
    {
     "name": "stdout",
     "output_type": "stream",
     "text": [
      "[[0, 0, 3.0, 1], [0, 0, 5.0, 2]]\n",
      "0\n",
      "1\n"
     ]
    }
   ],
   "source": [
    "if(count==0):\n",
    "    list=[]\n",
    "    list1=[]\n",
    "    for i in range(n):\n",
    "        if(graph_path[source][i]!=0 and i!=source):\n",
    "            list.append([count,source,graph_path[source][i],i])\n",
    "            list1.append(i)\n",
    "    list_copy=list.copy()\n",
    "    for i in range(len(list)-1):\n",
    "        for j in range(0,len(list)-i-1):\n",
    "            if(list[j][2]>list[j+1][2]):\n",
    "                temp=list[j+1]\n",
    "                list[j+1]=list[j]\n",
    "                list[j]=temp\n",
    "    print(list)\n",
    "    c=0\n",
    "    for i in range(len(list)):\n",
    "        print(i)\n",
    "        trav.insert(c,[(list1.index(list[i][3]))+1,list[i][0],list[i][1],list[i][2],list[i][3]])\n",
    "        path.append([k+i,list_copy[i][0],list_copy[i][1],list_copy[i][2],list_copy[i][3]])\n",
    "        c+=1\n",
    "    k+=len(list)\n",
    "    count+=1"
   ]
  },
  {
   "cell_type": "code",
   "execution_count": 27,
   "id": "65b05667-6d44-42e4-b48c-2f80af03aee4",
   "metadata": {},
   "outputs": [
    {
     "name": "stdout",
     "output_type": "stream",
     "text": [
      "[[1, 0, 0, 3.0, 1], [2, 0, 0, 5.0, 2]]\n"
     ]
    }
   ],
   "source": [
    "print(trav)"
   ]
  },
  {
   "cell_type": "code",
   "execution_count": 28,
   "id": "b2b21acb-38a8-4e25-88d6-82432cbf5dde",
   "metadata": {},
   "outputs": [
    {
     "name": "stdout",
     "output_type": "stream",
     "text": [
      "[1, 0, 0, 3.0, 1]\n",
      "[[1, 1, 7.0, 2], [1, 1, 6.0, 4]]\n",
      "[2, 0, 0, 5.0, 2]\n",
      "[[2, 2, 9.0, 1], [2, 2, 9.0, 3]]\n",
      "[4, 1, 1, 6.0, 4]\n",
      "[[4, 4, 9.0, 1], [4, 4, 11.0, 6]]\n",
      "[3, 1, 1, 7.0, 2]\n",
      "[[3, 2, 11.0, 1], [3, 2, 11.0, 3]]\n",
      "[5, 2, 2, 9.0, 1]\n",
      "[[5, 1, 13.0, 2], [5, 1, 12.0, 4]]\n",
      "[6, 2, 2, 9.0, 3]\n",
      "[[6, 3, 13.0, 2], [6, 3, 15.0, 5]]\n",
      "[8, 3, 2, 11.0, 3]\n",
      "[[8, 3, 15.0, 2], [8, 3, 17.0, 5]]\n",
      "[9, 5, 1, 12.0, 4]\n",
      "[[9, 4, 15.0, 1], [9, 4, 17.0, 6]]\n",
      "[10, 6, 3, 15.0, 5]\n",
      "[[10, 5, 21.0, 3]]\n",
      "[11, 8, 3, 17.0, 5]\n",
      "[[11, 5, 23.0, 3]]\n"
     ]
    }
   ],
   "source": [
    "while(len(trav)!=0):\n",
    "    print(trav[0])\n",
    "    list=[]\n",
    "    list1=[]\n",
    "    for j in range(n):\n",
    "        if(graph_path[trav[0][4]][j]!=0 and j!=source):\n",
    "            list.append([trav[0][0],trav[0][4],graph_path[trav[0][4]][j]+trav[0][3],j])\n",
    "            list1.append(j)\n",
    "    print(list)\n",
    "    length=trav[0][0]\n",
    "    while(length>0):\n",
    "        if(path[length][2] in list1):\n",
    "            list.pop(list1.index(path[length][2]))\n",
    "            list1.pop(list1.index(path[length][2]))\n",
    "        length=path[length][1]\n",
    "    c=0\n",
    "    for i in range(len(list)):\n",
    "        path.append([k+i,list[i][0],list[i][1],list[i][2],list[i][3]])\n",
    "        if(dest!=list[i][3]):\n",
    "            trav.insert(c,[k+i,list[i][0],list[i][1],list[i][2],list[i][3]])\n",
    "        c+=1\n",
    "    k=k+len(list)\n",
    "    for i in range(len(trav)-1):\n",
    "        for j in range(0,len(trav)-i-1):\n",
    "            if(trav[j][3]>trav[j+1][3]):\n",
    "                temp=trav[j+1]\n",
    "                trav[j+1]=trav[j]\n",
    "                trav[j]=temp\n",
    "    trav.remove(trav[0])"
   ]
  },
  {
   "cell_type": "code",
   "execution_count": 32,
   "id": "aeae7943-232c-4255-a3f5-50b1ffa7d701",
   "metadata": {},
   "outputs": [
    {
     "name": "stdout",
     "output_type": "stream",
     "text": [
      "[[6, 4, 1, 2, 0], [6, 4, 1, 0]]\n"
     ]
    }
   ],
   "source": [
    "ora=sys.maxsize\n",
    "path_main=[]\n",
    "n=len(path)-1\n",
    "while(n>0):\n",
    "    if dest==path[n][4]:\n",
    "        d=[]\n",
    "        d.append(dest)\n",
    "        d.append(path[n][2])\n",
    "        length=path[n][1]\n",
    "        while(length>0):\n",
    "            d.append(path[length][2])\n",
    "            length=path[length][1]\n",
    "        if(ora>path[n][3]):\n",
    "            ora=path[n][3]\n",
    "            oracle=d\n",
    "        path_main.append(d)\n",
    "    n=n-1\n",
    "print(path_main)"
   ]
  },
  {
   "cell_type": "code",
   "execution_count": 33,
   "id": "25934a00-e0f8-4f2d-b149-f5657b319517",
   "metadata": {},
   "outputs": [
    {
     "name": "stdout",
     "output_type": "stream",
     "text": [
      "[6, 4, 1, 0]\n"
     ]
    }
   ],
   "source": [
    "print(oracle)"
   ]
  },
  {
   "cell_type": "code",
   "execution_count": 34,
   "id": "be6cf150-eee3-4660-94a2-a9bbb2dae3ef",
   "metadata": {},
   "outputs": [
    {
     "name": "stdout",
     "output_type": "stream",
     "text": [
      "11.0\n"
     ]
    }
   ],
   "source": [
    "print(ora)"
   ]
  },
  {
   "cell_type": "code",
   "execution_count": null,
   "id": "407101bf-77cc-47c9-8f62-6fc20e241d63",
   "metadata": {},
   "outputs": [],
   "source": []
  }
 ],
 "metadata": {
  "kernelspec": {
   "display_name": "Python 3 (ipykernel)",
   "language": "python",
   "name": "python3"
  },
  "language_info": {
   "codemirror_mode": {
    "name": "ipython",
    "version": 3
   },
   "file_extension": ".py",
   "mimetype": "text/x-python",
   "name": "python",
   "nbconvert_exporter": "python",
   "pygments_lexer": "ipython3",
   "version": "3.11.4"
  }
 },
 "nbformat": 4,
 "nbformat_minor": 5
}

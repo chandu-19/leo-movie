{
 "cells": [
  {
   "cell_type": "code",
   "execution_count": 68,
   "id": "7a2958d2-0e3b-4942-8625-cef4e0f38c36",
   "metadata": {},
   "outputs": [],
   "source": [
    "import numpy as np"
   ]
  },
  {
   "cell_type": "code",
   "execution_count": 92,
   "id": "15296abf-6ec9-432f-8061-c4f4183ee54a",
   "metadata": {},
   "outputs": [
    {
     "name": "stdin",
     "output_type": "stream",
     "text": [
      "enter the number of nodes 7\n",
      "enter the first node:  0\n",
      "enter the second node:  1\n",
      "enter the first node:  0\n",
      "enter the second node:  2\n",
      "enter the first node:  1\n",
      "enter the second node:  2\n",
      "enter the first node:  1\n",
      "enter the second node:  4\n",
      "enter the first node:  4\n",
      "enter the second node:  6\n",
      "enter the first node:  2\n",
      "enter the second node:  3\n",
      "enter the first node:  3\n",
      "enter the second node:  5\n",
      "enter the first node:  -1\n",
      "enter the second node:  -1\n"
     ]
    }
   ],
   "source": [
    "n=int(input(\"enter the number of nodes\"))\n",
    "graph=np.zeros([n,n])\n",
    "s = 1\n",
    "p = 1\n",
    "s=int(input(\"enter the first node: \"))\n",
    "p=int(input(\"enter the second node: \"))\n",
    "while(s!=-1 and p!=-1):\n",
    "    graph[s][p]=1\n",
    "    graph[p][s]=1\n",
    "    s=int(input(\"enter the first node: \"))\n",
    "    p=int(input(\"enter the second node: \"))\n",
    "    "
   ]
  },
  {
   "cell_type": "code",
   "execution_count": 70,
   "id": "02ffc438-6126-4bfc-91f0-23c486c4aa97",
   "metadata": {},
   "outputs": [
    {
     "name": "stdout",
     "output_type": "stream",
     "text": [
      "[[0. 1. 1. 0. 0. 0. 0.]\n",
      " [1. 0. 1. 0. 1. 0. 0.]\n",
      " [1. 1. 0. 1. 0. 0. 0.]\n",
      " [0. 0. 1. 0. 0. 1. 0.]\n",
      " [0. 1. 0. 0. 0. 0. 1.]\n",
      " [0. 0. 0. 1. 0. 0. 0.]\n",
      " [0. 0. 0. 0. 1. 0. 0.]]\n"
     ]
    }
   ],
   "source": [
    "print(graph)"
   ]
  },
  {
   "cell_type": "code",
   "execution_count": 93,
   "id": "3c312643-abcc-42b5-b6e5-669e902d27f5",
   "metadata": {},
   "outputs": [
    {
     "name": "stdin",
     "output_type": "stream",
     "text": [
      "enter the source node:  0\n",
      "enter the dest node:  6\n"
     ]
    }
   ],
   "source": [
    "source=int(input(\"enter the source node: \"))\n",
    "dest=int(input(\"enter the dest node: \"))\n"
   ]
  },
  {
   "cell_type": "code",
   "execution_count": 94,
   "id": "e320d160-ab65-4fd5-b5c4-62bcd6250de1",
   "metadata": {},
   "outputs": [],
   "source": [
    "trav=[]\n",
    "path=[]\n",
    "path.append([source])\n",
    "count=0\n",
    "k=1"
   ]
  },
  {
   "cell_type": "code",
   "execution_count": 95,
   "id": "4b060dcf-b248-49e5-b198-0e58ee39aec7",
   "metadata": {},
   "outputs": [
    {
     "name": "stdout",
     "output_type": "stream",
     "text": [
      "[[0], [1, 0, 0, [1, 2]]]\n"
     ]
    }
   ],
   "source": [
    "if(count==0):\n",
    "    list=[]\n",
    "    for i in range(n):\n",
    "        if(graph[source][i]==1 and i!=source):\n",
    "            list.append(i)\n",
    "    trav.append([k,count,source,list])\n",
    "    path.append([k,count,source,list])\n",
    "    count+=1\n",
    "    k+=1\n",
    "print(path)"
   ]
  },
  {
   "cell_type": "code",
   "execution_count": 96,
   "id": "51191a4f-2284-4227-9618-1f7c2949ac41",
   "metadata": {},
   "outputs": [
    {
     "name": "stdout",
     "output_type": "stream",
     "text": [
      "[2, 4] [1, 0, 0, [1, 2]]\n",
      "[1, 3] [1, 0, 0, [1, 2]]\n",
      "[1, 3] [2, 1, 1, [2, 4]]\n",
      "[3] [1, 0, 0, [1, 2]]\n",
      "[1, 6] [2, 1, 1, [2, 4]]\n",
      "[6] [1, 0, 0, [1, 2]]\n",
      "[2, 4] [3, 1, 2, [1, 3]]\n",
      "[4] [1, 0, 0, [1, 2]]\n",
      "[2, 5] [3, 1, 2, [1, 3]]\n",
      "[5] [1, 0, 0, [1, 2]]\n",
      "[2, 5] [4, 2, 2, [3]]\n",
      "[5] [2, 1, 1, [2, 4]]\n",
      "[5] [1, 0, 0, [1, 2]]\n",
      "[1, 6] [6, 3, 1, [4]]\n",
      "[6] [3, 1, 2, [1, 3]]\n",
      "[6] [1, 0, 0, [1, 2]]\n",
      "[3] [7, 3, 3, [5]]\n",
      "[] [3, 1, 2, [1, 3]]\n",
      "[] [1, 0, 0, [1, 2]]\n",
      "[3] [8, 4, 3, [5]]\n",
      "[] [4, 2, 2, [3]]\n",
      "[] [2, 1, 1, [2, 4]]\n",
      "[] [1, 0, 0, [1, 2]]\n"
     ]
    }
   ],
   "source": [
    "while(len(trav)!=0):\n",
    "    for i in trav[0][3]:\n",
    "        if(i!=dest):\n",
    "            list=[]\n",
    "            for j in range(n):\n",
    "                if(graph[i][j]==1 and j!=source):\n",
    "                    list.append(j)\n",
    "            length=trav[0][0]\n",
    "            while(length>0):\n",
    "                print(list,path[length])\n",
    "                if(path[length][2] in list):\n",
    "                    list.remove(path[length][2])\n",
    "                length=path[length][1]\n",
    "            if(len(list)>0):\n",
    "                path.append([k,trav[0][0],i,list])\n",
    "                trav.append([k,trav[0][0],i,list])\n",
    "                k=k+1\n",
    "    trav.remove(trav[0])"
   ]
  },
  {
   "cell_type": "code",
   "execution_count": 97,
   "id": "b8ad244c-4c8e-4754-bb50-e355381b2d6d",
   "metadata": {},
   "outputs": [
    {
     "name": "stdout",
     "output_type": "stream",
     "text": [
      "[[0], [1, 0, 0, [1, 2]], [2, 1, 1, [2, 4]], [3, 1, 2, [1, 3]], [4, 2, 2, [3]], [5, 2, 4, [6]], [6, 3, 1, [4]], [7, 3, 3, [5]], [8, 4, 3, [5]], [9, 6, 4, [6]]]\n"
     ]
    }
   ],
   "source": [
    "print(path)"
   ]
  },
  {
   "cell_type": "code",
   "execution_count": 98,
   "id": "db393396-5471-4929-af75-55895c1c80e4",
   "metadata": {},
   "outputs": [
    {
     "name": "stdout",
     "output_type": "stream",
     "text": [
      "[[6, 4, 1, 2, 0], [6, 4, 1, 0]]\n"
     ]
    }
   ],
   "source": [
    "path_main=[]\n",
    "n=len(path)-1\n",
    "while(n>0):\n",
    "    if dest in path[n][3]:\n",
    "        d=[]\n",
    "        d.append(dest)\n",
    "        d.append(path[n][2])\n",
    "        length=path[n][1]\n",
    "        while(length>0):\n",
    "            d.append(path[length][2])\n",
    "            length=path[length][1]\n",
    "        path_main.append(d)\n",
    "    n=n-1\n",
    "print(path_main)"
   ]
  },
  {
   "cell_type": "code",
   "execution_count": null,
   "id": "44233d15-66b6-46fa-a7b9-f0698ca3a162",
   "metadata": {},
   "outputs": [],
   "source": []
  },
  {
   "cell_type": "code",
   "execution_count": null,
   "id": "51ef9b11-537b-43fb-bb4c-8fcdfb522eea",
   "metadata": {},
   "outputs": [],
   "source": []
  }
 ],
 "metadata": {
  "kernelspec": {
   "display_name": "Python 3 (ipykernel)",
   "language": "python",
   "name": "python3"
  },
  "language_info": {
   "codemirror_mode": {
    "name": "ipython",
    "version": 3
   },
   "file_extension": ".py",
   "mimetype": "text/x-python",
   "name": "python",
   "nbconvert_exporter": "python",
   "pygments_lexer": "ipython3",
   "version": "3.11.4"
  }
 },
 "nbformat": 4,
 "nbformat_minor": 5
}

{
 "cells": [
  {
   "cell_type": "code",
   "execution_count": 14,
   "id": "2ea5b7e7-a22f-4f5e-b872-2a576bf62dfc",
   "metadata": {},
   "outputs": [],
   "source": [
    "import numpy as np\n",
    "import sys"
   ]
  },
  {
   "cell_type": "code",
   "execution_count": 17,
   "id": "735b4d9a-ec54-45b4-943c-6c12326492b8",
   "metadata": {},
   "outputs": [
    {
     "name": "stdin",
     "output_type": "stream",
     "text": [
      "enter the number of nodes 7\n",
      "enter the first node:  0\n",
      "enter the second node:  1\n",
      "enter the heuristics:  3\n",
      "enter the path:  3\n",
      "enter the first node:  0\n",
      "enter the second node:  2\n",
      "enter the heuristics:  5\n",
      "enter the path:  5\n",
      "enter the first node:  1\n",
      "enter the second node:  2\n",
      "enter the heuristics:  4\n",
      "enter the path:  4\n",
      "enter the first node:  2\n",
      "enter the second node:  3\n",
      "enter the heuristics:  4\n",
      "enter the path:  4\n",
      "enter the first node:  3\n",
      "enter the second node:  5\n",
      "enter the heuristics:  6\n",
      "enter the path:  6\n",
      "enter the first node:  1\n",
      "enter the second node:  4\n",
      "enter the heuristics:  3\n",
      "enter the path:  3\n",
      "enter the first node:  4\n",
      "enter the second node:  6\n",
      "enter the heuristics:  5\n",
      "enter the path:  5\n",
      "enter the first node:  3\n",
      "enter the second node:  6\n",
      "enter the heuristics:  7.11\n",
      "enter the path:  0\n",
      "enter the first node:  2\n",
      "enter the second node:  6\n",
      "enter the heuristics:  6\n",
      "enter the path:  0\n",
      "enter the first node:  1\n",
      "enter the second node:  6\n",
      "enter the heuristics:  7.11\n",
      "enter the path:  0\n",
      "enter the first node:  -1\n",
      "enter the second node:  -1\n",
      "enter the heuristics:  -1\n",
      "enter the path:  -1\n",
      "enter the source node:  0\n",
      "enter the dest node:  6\n"
     ]
    }
   ],
   "source": [
    "n=int(input(\"enter the number of nodes\"))\n",
    "graph_heu=np.zeros([n,n])\n",
    "graph_path=np.zeros([n,n])\n",
    "s = 1\n",
    "p = 1\n",
    "s=int(input(\"enter the first node: \"))\n",
    "p=int(input(\"enter the second node: \"))\n",
    "heu=float(input(\"enter the heuristics: \"))\n",
    "pat=int(input(\"enter the path: \"))\n",
    "while(s!=-1 and p!=-1 and p!=-1):\n",
    "    graph_heu[s][p]=heu\n",
    "    graph_heu[p][s]=heu\n",
    "    graph_path[p][s]=pat\n",
    "    graph_path[s][p]=pat\n",
    "    s=int(input(\"enter the first node: \"))\n",
    "    p=int(input(\"enter the second node: \"))\n",
    "    heu=float(input(\"enter the heuristics: \"))\n",
    "    pat=int(input(\"enter the path: \"))\n",
    "source=int(input(\"enter the source node: \"))\n",
    "dest=int(input(\"enter the dest node: \"))"
   ]
  },
  {
   "cell_type": "code",
   "execution_count": 95,
   "id": "51d284ff-9958-408c-bd29-df7c7a644e97",
   "metadata": {},
   "outputs": [],
   "source": [
    "trav=[]\n",
    "path=[]\n",
    "path.append([source])\n",
    "count=0\n",
    "k=1"
   ]
  },
  {
   "cell_type": "code",
   "execution_count": 96,
   "id": "6f190737-87c5-41ef-bca4-4503994c6817",
   "metadata": {},
   "outputs": [
    {
     "name": "stdout",
     "output_type": "stream",
     "text": [
      "[[0, 0, 3.0, 1, 10.11], [0, 0, 5.0, 2, 11.0]]\n",
      "0\n",
      "1\n"
     ]
    }
   ],
   "source": [
    "if(count==0):\n",
    "    list=[]\n",
    "    list1=[]\n",
    "    for i in range(n):\n",
    "        if(graph_path[source][i]!=0 and i!=source):\n",
    "            list.append([count,source,graph_path[source][i],i,graph_path[source][i]+graph_heu[i][dest]])\n",
    "            list1.append(i)\n",
    "    list_copy=list.copy()\n",
    "    for i in range(len(list)-1):\n",
    "        for j in range(0,len(list)-i-1):\n",
    "            if(list[j][4]>list[j+1][4]):\n",
    "                temp=list[j+1]\n",
    "                list[j+1]=list[j]\n",
    "                list[j]=temp\n",
    "    print(list)\n",
    "    c=0\n",
    "    for i in range(len(list)):\n",
    "        print(i)\n",
    "        trav.insert(c,[(list1.index(list[i][3]))+1,list[i][0],list[i][1],list[i][2],list[i][3],list[i][4]])\n",
    "        path.append([k+i,list_copy[i][0],list_copy[i][1],list_copy[i][2],list_copy[i][3],list[i][4]])\n",
    "        c+=1\n",
    "    k+=len(list)\n",
    "    count+=1"
   ]
  },
  {
   "cell_type": "code",
   "execution_count": 97,
   "id": "3b5fe226-7a7d-438d-80f0-9ffd0f408588",
   "metadata": {},
   "outputs": [
    {
     "name": "stdout",
     "output_type": "stream",
     "text": [
      "[[1, 0, 0, 3.0, 1, 10.11], [2, 0, 0, 5.0, 2, 11.0]]\n",
      "[[2, 0, 0, 5.0, 2, 11.0], [4, 1, 1, 6.0, 4, 11.0], [3, 1, 1, 7.0, 2, 13.0]]\n",
      "[[4, 1, 1, 6.0, 4, 11.0], [3, 1, 1, 7.0, 2, 13.0], [5, 2, 2, 9.0, 1, 16.11], [6, 2, 2, 9.0, 3, 16.11]]\n",
      "[[3, 1, 1, 7.0, 2, 13.0], [5, 2, 2, 9.0, 1, 16.11], [6, 2, 2, 9.0, 3, 16.11]]\n"
     ]
    }
   ],
   "source": [
    "ora=sys.maxsize\n",
    "while(len(trav)!=0):\n",
    "    print(trav)\n",
    "    while(trav[0][5]>ora):\n",
    "        trav.remove(trav[0])\n",
    "        if(len(trav)==0):\n",
    "            break\n",
    "    if(len(trav)!=0):\n",
    "        list=[]\n",
    "        list1=[]\n",
    "        for j in range(n):\n",
    "            if(graph_path[trav[0][4]][j]!=0 and j!=source):\n",
    "                list.append([trav[0][0],trav[0][4],graph_path[trav[0][4]][j]+trav[0][3],j,graph_path[trav[0][4]][j]+trav[0][3]+graph_heu[j][dest]])\n",
    "                list1.append(j)\n",
    "        length=trav[0][0]\n",
    "        while(length>0):\n",
    "            if(path[length][2] in list1 ):\n",
    "                list.pop(list1.index(path[length][2]))\n",
    "                list1.pop(list1.index(path[length][2]))\n",
    "            length=path[length][1]\n",
    "        c=0\n",
    "        for i in range(len(list)):\n",
    "            path.append([k+i,list[i][0],list[i][1],list[i][2],list[i][3],list[i][4]])\n",
    "            if(dest!=list[i][3] and list[i][4]<ora):\n",
    "                trav.insert(c,[k+i,list[i][0],list[i][1],list[i][2],list[i][3],list[i][4]])\n",
    "            elif(dest==list[i][3]):\n",
    "                if(ora>list[i][2]):\n",
    "                    ora=list[i][2]\n",
    "            c+=1\n",
    "        k=k+len(list)\n",
    "        for i in range(len(trav)-1):\n",
    "            for j in range(0,len(trav)-i-1):\n",
    "                if(trav[j][5]>trav[j+1][5]):\n",
    "                    temp=trav[j+1]\n",
    "                    trav[j+1]=trav[j]\n",
    "                    trav[j]=temp\n",
    "                if(trav[j][5]==trav[j+1][5] and trav[j][4]>trav[j+1][4]):\n",
    "                    temp=trav[j+1]\n",
    "                    trav[j+1]=trav[j]\n",
    "                    trav[j]=temp\n",
    "        trav.remove(trav[0])"
   ]
  },
  {
   "cell_type": "code",
   "execution_count": 98,
   "id": "b7ad2298-f609-4644-948c-246f1ce9591b",
   "metadata": {},
   "outputs": [
    {
     "name": "stdout",
     "output_type": "stream",
     "text": [
      "[[0], [1, 0, 0, 3.0, 1, 10.11], [2, 0, 0, 5.0, 2, 11.0], [3, 1, 1, 7.0, 2, 13.0], [4, 1, 1, 6.0, 4, 11.0], [5, 2, 2, 9.0, 1, 16.11], [6, 2, 2, 9.0, 3, 16.11], [7, 4, 4, 11.0, 6, 11.0]]\n"
     ]
    }
   ],
   "source": [
    "print(path)"
   ]
  },
  {
   "cell_type": "code",
   "execution_count": 99,
   "id": "031167e2-b360-4770-918f-efa82ab0bc5b",
   "metadata": {},
   "outputs": [
    {
     "name": "stdout",
     "output_type": "stream",
     "text": [
      "[[6, 4, 1, 0]]\n"
     ]
    }
   ],
   "source": [
    "path_main=[]\n",
    "n=len(path)-1\n",
    "while(n>0):\n",
    "    if dest==path[n][4]:\n",
    "        d=[]\n",
    "        d.append(dest)\n",
    "        d.append(path[n][2])\n",
    "        length=path[n][1]\n",
    "        while(length>0):\n",
    "            d.append(path[length][2])\n",
    "            length=path[length][1]\n",
    "        path_main.append(d)\n",
    "    n=n-1\n",
    "print(path_main)"
   ]
  },
  {
   "cell_type": "code",
   "execution_count": null,
   "id": "0207e627-19d2-4c1f-a2d3-8100fafae995",
   "metadata": {},
   "outputs": [],
   "source": []
  }
 ],
 "metadata": {
  "kernelspec": {
   "display_name": "Python 3 (ipykernel)",
   "language": "python",
   "name": "python3"
  },
  "language_info": {
   "codemirror_mode": {
    "name": "ipython",
    "version": 3
   },
   "file_extension": ".py",
   "mimetype": "text/x-python",
   "name": "python",
   "nbconvert_exporter": "python",
   "pygments_lexer": "ipython3",
   "version": "3.11.4"
  }
 },
 "nbformat": 4,
 "nbformat_minor": 5
}

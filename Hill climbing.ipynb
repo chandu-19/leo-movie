{
 "cells": [
  {
   "cell_type": "code",
   "execution_count": 180,
   "id": "5e428aba-e6e9-472d-8e42-9328dea8cbe0",
   "metadata": {},
   "outputs": [],
   "source": [
    "import numpy as np"
   ]
  },
  {
   "cell_type": "code",
   "execution_count": 271,
   "id": "d717118b-4f6d-4e78-bf02-8662f770995b",
   "metadata": {},
   "outputs": [
    {
     "name": "stdin",
     "output_type": "stream",
     "text": [
      "enter the number of nodes 7\n",
      "enter the first node:  0\n",
      "enter the second node:  1\n",
      "enter the heuristics:  3\n",
      "enter the path:  1\n",
      "enter the first node:  0\n",
      "enter the second node:  2\n",
      "enter the heuristics:  5\n",
      "enter the path:  1\n",
      "enter the first node:  1\n",
      "enter the second node:  2\n",
      "enter the heuristics:  4\n",
      "enter the path:  1\n",
      "enter the first node:  2\n",
      "enter the second node:  3\n",
      "enter the heuristics:  4\n",
      "enter the path:  1\n",
      "enter the first node:  3\n",
      "enter the second node:  5\n",
      "enter the heuristics:  6\n",
      "enter the path:  1\n",
      "enter the first node:  1\n",
      "enter the second node:  4\n",
      "enter the heuristics:  3\n",
      "enter the path:  1\n",
      "enter the first node:  4\n",
      "enter the second node:  6\n",
      "enter the heuristics:  5\n",
      "enter the path:  1\n",
      "enter the first node:  3\n",
      "enter the second node:  6\n",
      "enter the heuristics:  7.11\n",
      "enter the path:  0\n",
      "enter the first node:  2\n",
      "enter the second node:  6\n",
      "enter the heuristics:  6\n",
      "enter the path:  0\n",
      "enter the first node:  1\n",
      "enter the second node:  6\n",
      "enter the heuristics:  7.11\n",
      "enter the path:  0\n",
      "enter the first node:  -1\n",
      "enter the second node:  -1\n",
      "enter the heuristics:  -1\n",
      "enter the path:  -1\n"
     ]
    }
   ],
   "source": [
    "n=int(input(\"enter the number of nodes\"))\n",
    "graph_heu=np.zeros([n,n])\n",
    "graph_path=np.zeros([n,n])\n",
    "s = 1\n",
    "p = 1\n",
    "s=int(input(\"enter the first node: \"))\n",
    "p=int(input(\"enter the second node: \"))\n",
    "heu=float(input(\"enter the heuristics: \"))\n",
    "pat=int(input(\"enter the path: \"))\n",
    "while(s!=-1 and p!=-1 and p!=-1):\n",
    "    graph_heu[s][p]=heu\n",
    "    graph_heu[p][s]=heu\n",
    "    graph_path[p][s]=pat\n",
    "    graph_path[s][p]=pat\n",
    "    s=int(input(\"enter the first node: \"))\n",
    "    p=int(input(\"enter the second node: \"))\n",
    "    heu=float(input(\"enter the heuristics: \"))\n",
    "    pat=int(input(\"enter the path: \"))"
   ]
  },
  {
   "cell_type": "code",
   "execution_count": 272,
   "id": "908f34ce-cd29-43fa-83e0-40f1b7cfd5f3",
   "metadata": {},
   "outputs": [
    {
     "name": "stdout",
     "output_type": "stream",
     "text": [
      "[[0.   3.   5.   0.   0.   0.   0.  ]\n",
      " [3.   0.   4.   0.   3.   0.   7.11]\n",
      " [5.   4.   0.   4.   0.   0.   6.  ]\n",
      " [0.   0.   4.   0.   0.   6.   7.11]\n",
      " [0.   3.   0.   0.   0.   0.   5.  ]\n",
      " [0.   0.   0.   6.   0.   0.   0.  ]\n",
      " [0.   7.11 6.   7.11 5.   0.   0.  ]]\n",
      "[[0. 1. 1. 0. 0. 0. 0.]\n",
      " [1. 0. 1. 0. 1. 0. 0.]\n",
      " [1. 1. 0. 1. 0. 0. 0.]\n",
      " [0. 0. 1. 0. 0. 1. 0.]\n",
      " [0. 1. 0. 0. 0. 0. 1.]\n",
      " [0. 0. 0. 1. 0. 0. 0.]\n",
      " [0. 0. 0. 0. 1. 0. 0.]]\n"
     ]
    },
    {
     "name": "stdin",
     "output_type": "stream",
     "text": [
      "enter the source node:  0\n",
      "enter the dest node:  6\n"
     ]
    }
   ],
   "source": [
    "print(graph_heu)\n",
    "print(graph_path)\n",
    "source=int(input(\"enter the source node: \"))\n",
    "dest=int(input(\"enter the dest node: \"))"
   ]
  },
  {
   "cell_type": "code",
   "execution_count": 273,
   "id": "ca4aebd3-9cc1-469c-b832-1fef0e1ea0f5",
   "metadata": {},
   "outputs": [],
   "source": [
    "trav=[]\n",
    "path=[]\n",
    "path.append([source])\n",
    "count=0\n",
    "k=1"
   ]
  },
  {
   "cell_type": "code",
   "execution_count": 274,
   "id": "3c67b2ad-fe08-4c05-ba5f-883e196b6323",
   "metadata": {},
   "outputs": [
    {
     "name": "stdout",
     "output_type": "stream",
     "text": [
      "0\n",
      "[[0, 0, 6.0, 2], [0, 0, 7.11, 1]]\n",
      "0\n",
      "1\n"
     ]
    }
   ],
   "source": [
    "if(count==0):\n",
    "    list=[]\n",
    "    list1=[]\n",
    "    for i in range(n):\n",
    "        if(graph_path[source][i]!=0 and i!=source):\n",
    "            list.append([count,source,graph_heu[dest][i],i])\n",
    "            list1.append(i)\n",
    "    list_copy=list.copy()\n",
    "    for i in range(len(list)-1):\n",
    "        for j in range(0,len(list)-i-1):\n",
    "            print(j)\n",
    "            if(list[j][2]>list[j+1][2]):\n",
    "                temp=list[j+1]\n",
    "                list[j+1]=list[j]\n",
    "                list[j]=temp\n",
    "    print(list)\n",
    "    c=0\n",
    "    for i in range(len(list)):\n",
    "        print(i)\n",
    "        trav.insert(c,[(list1.index(list[i][3]))+1,list[i][0],list[i][1],list[i][2],list[i][3]])\n",
    "        path.append([k+i,list_copy[i][0],list_copy[i][1],list_copy[i][2],list_copy[i][3]])\n",
    "        c+=1\n",
    "    k+=len(list)\n",
    "    count+=1"
   ]
  },
  {
   "cell_type": "code",
   "execution_count": 275,
   "id": "bb67753b-381d-43e0-873d-1de6fc809fb4",
   "metadata": {},
   "outputs": [
    {
     "name": "stdout",
     "output_type": "stream",
     "text": [
      "[[2, 0, 0, 6.0, 2], [1, 0, 0, 7.11, 1]]\n",
      "[[0], [1, 0, 0, 7.11, 1], [2, 0, 0, 6.0, 2]]\n"
     ]
    }
   ],
   "source": [
    "print(trav)\n",
    "print(path)"
   ]
  },
  {
   "cell_type": "code",
   "execution_count": 276,
   "id": "688f0e75-87f8-4de2-97dc-082c9a853ae8",
   "metadata": {},
   "outputs": [
    {
     "name": "stdout",
     "output_type": "stream",
     "text": [
      "[2, 0, 0, 6.0, 2]\n",
      "[1, 3]\n",
      "[[3, 2, 2, 7.11, 1], [2, 0, 0, 6.0, 2], [1, 0, 0, 7.11, 1]]\n",
      "[[3, 2, 2, 7.11, 1], [4, 2, 2, 7.11, 3], [2, 0, 0, 6.0, 2], [1, 0, 0, 7.11, 1]]\n",
      "[3, 2, 2, 7.11, 1]\n",
      "[2, 4]\n",
      "[[5, 3, 1, 5.0, 4], [3, 2, 2, 7.11, 1], [4, 2, 2, 7.11, 3], [1, 0, 0, 7.11, 1]]\n",
      "[5, 3, 1, 5.0, 4]\n",
      "[1, 6]\n",
      "[[6, 5, 4, 0.0, 6], [5, 3, 1, 5.0, 4], [4, 2, 2, 7.11, 3], [1, 0, 0, 7.11, 1]]\n"
     ]
    }
   ],
   "source": [
    "while(len(trav)!=0):\n",
    "    print(trav[0])\n",
    "    list=[]\n",
    "    list1=[]\n",
    "    for j in range(n):\n",
    "        if(graph_path[trav[0][4]][j]!=0 and j!=source):\n",
    "            list.append([trav[0][0],trav[0][4],graph_heu[j][dest],j])\n",
    "            list1.append(j)\n",
    "    print(list1)\n",
    "    length=trav[0][0]\n",
    "    while(length>0):\n",
    "        if(path[length][2] in list1):\n",
    "            list.pop(list1.index(path[length][2]))\n",
    "            list1.pop(list1.index(path[length][2]))\n",
    "        length=path[length][1]\n",
    "    list_copy=list.copy()\n",
    "    \n",
    "    if(len(list)>0):\n",
    "        for i in range(len(list)-1):\n",
    "            for j in range(0,len(list)-i-1):\n",
    "                if(list[j][2]>list[j+1][2]):\n",
    "                    temp=list[j+1]\n",
    "                    list[j+1]=list[j]\n",
    "                    list[j]=temp\n",
    "        c=0\n",
    "        for i in range(len(list)):\n",
    "            trav.insert(c,[k+list1.index(list[i][3]),list[i][0],list[i][1],list[i][2],list[i][3]])\n",
    "            path.append([k+i,list_copy[i][0],list_copy[i][1],list_copy[i][2],list_copy[i][3]])\n",
    "            print(trav)\n",
    "            c+=1\n",
    "        k=k+len(list)\n",
    "        if(dest in list1):\n",
    "            trav.clear()\n",
    "            break\n",
    "        else:\n",
    "            trav.pop(c)\n",
    "    else:\n",
    "        trav.remove(trav[0])"
   ]
  },
  {
   "cell_type": "code",
   "execution_count": 277,
   "id": "f81fe2f8-33b6-49b0-8c5b-68dc86864212",
   "metadata": {},
   "outputs": [
    {
     "name": "stdout",
     "output_type": "stream",
     "text": [
      "[6, 4]\n",
      "[6, 4, 1]\n",
      "[6, 4, 1, 2]\n",
      "[6, 4, 1, 2, 0]\n",
      "[[6, 4, 1, 2, 0]]\n"
     ]
    }
   ],
   "source": [
    "path_main=[]\n",
    "n=len(path)-1\n",
    "while(n>0):\n",
    "    if dest==path[n][4]:\n",
    "        d=[]\n",
    "        d.append(dest)\n",
    "        d.append(path[n][2])\n",
    "        print(d)\n",
    "        length=path[n][1]\n",
    "        while(length>0):\n",
    "            d.append(path[length][2])\n",
    "            print(d)\n",
    "            length=path[length][1]\n",
    "        path_main.append(d)\n",
    "    n=n-1\n",
    "print(path_main)"
   ]
  },
  {
   "cell_type": "code",
   "execution_count": 262,
   "id": "8b356294-5f47-4bb0-a9a9-054dc8ce6d28",
   "metadata": {},
   "outputs": [
    {
     "name": "stdout",
     "output_type": "stream",
     "text": [
      "6\n"
     ]
    }
   ],
   "source": [
    "print(path[len(path)-1][4])"
   ]
  },
  {
   "cell_type": "code",
   "execution_count": 260,
   "id": "59f26862-914b-4210-85e7-2b6e3f24a374",
   "metadata": {},
   "outputs": [
    {
     "name": "stdout",
     "output_type": "stream",
     "text": [
      "[[0], [1, 0, 0, 7.11, 1], [2, 0, 0, 6.0, 2], [2, 2, 2, 7.11, 1], [3, 2, 2, 7.11, 3], [4, 2, 1, 6.0, 2], [5, 2, 1, 5.0, 4], [6, 5, 4, 0.0, 6]]\n"
     ]
    }
   ],
   "source": [
    "print(path)"
   ]
  },
  {
   "cell_type": "code",
   "execution_count": 244,
   "id": "dad6ef94-7b3d-411b-9cb1-bd47750aff75",
   "metadata": {},
   "outputs": [
    {
     "name": "stdout",
     "output_type": "stream",
     "text": [
      "[1]\n"
     ]
    }
   ],
   "source": [
    "print(list1)"
   ]
  },
  {
   "cell_type": "code",
   "execution_count": null,
   "id": "7116389b-d1a0-40c1-83ba-e5c9339e5ed5",
   "metadata": {},
   "outputs": [],
   "source": []
  }
 ],
 "metadata": {
  "kernelspec": {
   "display_name": "Python 3 (ipykernel)",
   "language": "python",
   "name": "python3"
  },
  "language_info": {
   "codemirror_mode": {
    "name": "ipython",
    "version": 3
   },
   "file_extension": ".py",
   "mimetype": "text/x-python",
   "name": "python",
   "nbconvert_exporter": "python",
   "pygments_lexer": "ipython3",
   "version": "3.11.4"
  }
 },
 "nbformat": 4,
 "nbformat_minor": 5
}

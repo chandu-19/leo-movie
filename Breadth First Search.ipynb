{
 "cells": [
  {
   "cell_type": "code",
   "execution_count": 1,
   "id": "521fd917-2c1e-4058-bfed-9f75d8cead4e",
   "metadata": {},
   "outputs": [],
   "source": [
    "import numpy as np"
   ]
  },
  {
   "cell_type": "code",
   "execution_count": 48,
   "id": "098bacd2-3ea9-446b-8dd2-f26a627e79c9",
   "metadata": {},
   "outputs": [
    {
     "name": "stdin",
     "output_type": "stream",
     "text": [
      "enter the number of nodes 7\n",
      "enter the first node:  0\n",
      "enter the second node:  1\n",
      "enter the first node:  0\n",
      "enter the second node:  2\n",
      "enter the first node:  1\n",
      "enter the second node:  2\n",
      "enter the first node:  1\n",
      "enter the second node:  4\n",
      "enter the first node:  4\n",
      "enter the second node:  6\n",
      "enter the first node:  2\n",
      "enter the second node:  3\n",
      "enter the first node:  3\n",
      "enter the second node:  5\n",
      "enter the first node:  -1\n",
      "enter the second node:  -1\n"
     ]
    }
   ],
   "source": [
    "n=int(input(\"enter the number of nodes\"))\n",
    "graph=np.zeros([n,n])\n",
    "s = 1\n",
    "p = 1\n",
    "s=int(input(\"enter the first node: \"))\n",
    "p=int(input(\"enter the second node: \"))\n",
    "while(s!=-1 and p!=-1):\n",
    "    graph[s][p]=1\n",
    "    graph[p][s]=1\n",
    "    s=int(input(\"enter the first node: \"))\n",
    "    p=int(input(\"enter the second node: \"))\n",
    "    "
   ]
  },
  {
   "cell_type": "code",
   "execution_count": 49,
   "id": "8d59085e-8c25-4e6b-a363-4532ed008e23",
   "metadata": {},
   "outputs": [
    {
     "name": "stdin",
     "output_type": "stream",
     "text": [
      "enter the source node:  0\n",
      "enter the dest node:  6\n"
     ]
    }
   ],
   "source": [
    "source=int(input(\"enter the source node: \"))\n",
    "dest=int(input(\"enter the dest node: \"))\n"
   ]
  },
  {
   "cell_type": "code",
   "execution_count": 50,
   "id": "669d8e29-b6bd-40a5-a408-19805f15c554",
   "metadata": {},
   "outputs": [],
   "source": [
    "trav=[]\n",
    "path=[]\n",
    "path.append([source])\n",
    "count=0\n",
    "k=1"
   ]
  },
  {
   "cell_type": "code",
   "execution_count": 51,
   "id": "3f166e27-8b72-4cd8-82fe-a88183f9a6b8",
   "metadata": {},
   "outputs": [
    {
     "name": "stdout",
     "output_type": "stream",
     "text": [
      "[[[1, 0, 0, [1, 2]]]]\n"
     ]
    }
   ],
   "source": [
    "if(count==0):\n",
    "    list=[]\n",
    "    for i in range(n):\n",
    "        if(graph[source][i]==1 and i!=source):\n",
    "            list.append(i)\n",
    "    trav.append([[k,count,source,list]])\n",
    "    path.append([k,count,source,list])\n",
    "    count+=1\n",
    "    k+=1\n",
    "print(trav)"
   ]
  },
  {
   "cell_type": "code",
   "execution_count": 53,
   "id": "0e24629d-f92a-493d-8397-05b3ed0c9f3c",
   "metadata": {},
   "outputs": [
    {
     "name": "stdout",
     "output_type": "stream",
     "text": [
      "[2, 4] [1, 0, 0, [1, 2]]\n",
      "[1, 3] [1, 0, 0, [1, 2]]\n",
      "[1, 3] [2, 1, 1, [2, 4]]\n",
      "[3] [1, 0, 0, [1, 2]]\n",
      "[1, 6] [2, 1, 1, [2, 4]]\n",
      "[6] [1, 0, 0, [1, 2]]\n",
      "[2, 4] [3, 1, 2, [1, 3]]\n",
      "[4] [1, 0, 0, [1, 2]]\n",
      "[2, 5] [3, 1, 2, [1, 3]]\n",
      "[5] [1, 0, 0, [1, 2]]\n"
     ]
    }
   ],
   "source": [
    "flag=True\n",
    "while(len(trav)!=0):\n",
    "    a=[]\n",
    "    for i in trav[0]:\n",
    "        for temp in i[3]:\n",
    "            list=[]\n",
    "            for j in range(n):\n",
    "                if(graph[temp][j]==1 and j!=source):\n",
    "                    list.append(j)\n",
    "            length=i[0]\n",
    "            while(length>0):\n",
    "                print(list,path[length])\n",
    "                if(path[length][2] in list):\n",
    "                    list.remove(path[length][2])\n",
    "                length=path[length][1]\n",
    "            if(len(list)>0):\n",
    "                path.append([k,i[0],temp,list])\n",
    "                a.append([k,i[0],temp,list])\n",
    "                k=k+1\n",
    "                if(dest in list):\n",
    "                    flag=False\n",
    "    trav.append(a)\n",
    "    trav.remove(trav[0])\n",
    "    if(flag==False):\n",
    "        trav.clear()"
   ]
  },
  {
   "cell_type": "code",
   "execution_count": 54,
   "id": "ef718b96-f4ae-467e-a5f5-2a05e46de8b5",
   "metadata": {},
   "outputs": [
    {
     "name": "stdout",
     "output_type": "stream",
     "text": [
      "[[0], [1, 0, 0, [1, 2]], [2, 1, 1, [2, 4]], [3, 1, 2, [1, 3]], [4, 2, 2, [3]], [5, 2, 4, [6]], [6, 3, 1, [4]], [7, 3, 3, [5]]]\n"
     ]
    }
   ],
   "source": [
    "print(path)"
   ]
  },
  {
   "cell_type": "code",
   "execution_count": 55,
   "id": "bb2acbc0-9451-4a4e-b958-d988b6a12ccb",
   "metadata": {},
   "outputs": [
    {
     "name": "stdout",
     "output_type": "stream",
     "text": [
      "[[6, 4, 1, 0]]\n"
     ]
    }
   ],
   "source": [
    "path_main=[]\n",
    "n=len(path)-1\n",
    "while(n>0):\n",
    "    if dest in path[n][3]:\n",
    "        d=[]\n",
    "        d.append(dest)\n",
    "        d.append(path[n][2])\n",
    "        length=path[n][1]\n",
    "        while(length>0):\n",
    "            d.append(path[length][2])\n",
    "            length=path[length][1]\n",
    "        path_main.append(d)\n",
    "    n=n-1\n",
    "print(path_main)"
   ]
  },
  {
   "cell_type": "code",
   "execution_count": null,
   "id": "fa1f2add-e64d-452d-b81e-80d31402ce14",
   "metadata": {},
   "outputs": [],
   "source": []
  }
 ],
 "metadata": {
  "kernelspec": {
   "display_name": "Python 3 (ipykernel)",
   "language": "python",
   "name": "python3"
  },
  "language_info": {
   "codemirror_mode": {
    "name": "ipython",
    "version": 3
   },
   "file_extension": ".py",
   "mimetype": "text/x-python",
   "name": "python",
   "nbconvert_exporter": "python",
   "pygments_lexer": "ipython3",
   "version": "3.11.4"
  }
 },
 "nbformat": 4,
 "nbformat_minor": 5
}

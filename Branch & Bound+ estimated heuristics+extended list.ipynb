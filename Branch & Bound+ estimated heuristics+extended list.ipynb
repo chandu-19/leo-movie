{
 "cells": [
  {
   "cell_type": "code",
   "execution_count": 1,
   "id": "25048e9d-f89e-4322-97e7-7b64c8e1c1d8",
   "metadata": {},
   "outputs": [],
   "source": [
    "import numpy as np\n",
    "import sys"
   ]
  },
  {
   "cell_type": "code",
   "execution_count": 3,
   "id": "642d3b13-7ce9-4598-817a-c94ac6dbc862",
   "metadata": {},
   "outputs": [
    {
     "name": "stdin",
     "output_type": "stream",
     "text": [
      "enter the number of nodes 7\n",
      "enter the first node:  0\n",
      "enter the second node:  1\n",
      "enter the heuristics:  3\n",
      "enter the path:  3\n",
      "enter the first node:  0\n",
      "enter the second node:  2\n",
      "enter the heuristics:  5\n",
      "enter the path:  5\n",
      "enter the first node:  1\n",
      "enter the second node:  2\n",
      "enter the heuristics:  4\n",
      "enter the path:  4\n",
      "enter the first node:  2\n",
      "enter the second node:  3\n",
      "enter the heuristics:  4\n",
      "enter the path:  4\n",
      "enter the first node:  3\n",
      "enter the second node:  5\n",
      "enter the heuristics:  6\n",
      "enter the path:  6\n",
      "enter the first node:  1\n",
      "enter the second node:  4\n",
      "enter the heuristics:  3\n",
      "enter the path:  3\n",
      "enter the first node:  4\n",
      "enter the second node:  6\n",
      "enter the heuristics:  5\n",
      "enter the path:  5\n",
      "enter the first node:  3\n",
      "enter the second node:  6\n",
      "enter the heuristics:  7.11\n",
      "enter the path:  0\n",
      "enter the first node:  2\n",
      "enter the second node:  6\n",
      "enter the heuristics:  6\n",
      "enter the path:  0\n",
      "enter the first node:  1\n",
      "enter the second node:  6\n",
      "enter the heuristics:  7.11\n",
      "enter the path:  0\n",
      "enter the first node:  -1\n",
      "enter the second node:  -1\n",
      "enter the heuristics:  -1\n",
      "enter the path:  -1\n",
      "enter the source node:  0\n",
      "enter the dest node:  6\n"
     ]
    }
   ],
   "source": [
    "n=int(input(\"enter the number of nodes\"))\n",
    "graph_heu=np.zeros([n,n])\n",
    "graph_path=np.zeros([n,n])\n",
    "s = 1\n",
    "p = 1\n",
    "s=int(input(\"enter the first node: \"))\n",
    "p=int(input(\"enter the second node: \"))\n",
    "heu=float(input(\"enter the heuristics: \"))\n",
    "pat=int(input(\"enter the path: \"))\n",
    "while(s!=-1 and p!=-1 and p!=-1):\n",
    "    graph_heu[s][p]=heu\n",
    "    graph_heu[p][s]=heu\n",
    "    graph_path[p][s]=pat\n",
    "    graph_path[s][p]=pat\n",
    "    s=int(input(\"enter the first node: \"))\n",
    "    p=int(input(\"enter the second node: \"))\n",
    "    heu=float(input(\"enter the heuristics: \"))\n",
    "    pat=int(input(\"enter the path: \"))\n",
    "source=int(input(\"enter the source node: \"))\n",
    "dest=int(input(\"enter the dest node: \"))"
   ]
  },
  {
   "cell_type": "code",
   "execution_count": 4,
   "id": "6d4ac603-dbb7-48ad-a417-408802ee523a",
   "metadata": {},
   "outputs": [],
   "source": [
    "trav=[]\n",
    "path=[]\n",
    "path.append([source])\n",
    "count=0\n",
    "k=1\n",
    "ext_list=[]\n",
    "ext_list.append([source])"
   ]
  },
  {
   "cell_type": "code",
   "execution_count": 5,
   "id": "6039f348-baf1-4c6c-bad1-01a5e538485d",
   "metadata": {},
   "outputs": [
    {
     "name": "stdout",
     "output_type": "stream",
     "text": [
      "[[0, 0, 3.0, 1, 10.11], [0, 0, 5.0, 2, 11.0]]\n",
      "0\n",
      "1\n"
     ]
    }
   ],
   "source": [
    "if(count==0):\n",
    "    list=[]\n",
    "    list1=[]\n",
    "    for i in range(n):\n",
    "        if(graph_path[source][i]!=0 and i!=source):\n",
    "            list.append([count,source,graph_path[source][i],i,graph_path[source][i]+graph_heu[i][dest]])\n",
    "            list1.append(i)\n",
    "    list_copy=list.copy()\n",
    "    for i in range(len(list)-1):\n",
    "        for j in range(0,len(list)-i-1):\n",
    "            if(list[j][4]>list[j+1][4]):\n",
    "                temp=list[j+1]\n",
    "                list[j+1]=list[j]\n",
    "                list[j]=temp\n",
    "    print(list)\n",
    "    c=0\n",
    "    for i in range(len(list)):\n",
    "        print(i)\n",
    "        trav.insert(c,[(list1.index(list[i][3]))+1,list[i][0],list[i][1],list[i][2],list[i][3],list[i][4]])\n",
    "        path.append([k+i,list_copy[i][0],list_copy[i][1],list_copy[i][2],list_copy[i][3],list[i][4]])\n",
    "        c+=1\n",
    "    k+=len(list)\n",
    "    count+=1"
   ]
  },
  {
   "cell_type": "code",
   "execution_count": 6,
   "id": "47a8c02d-143f-4672-a3fa-adba52d958d4",
   "metadata": {},
   "outputs": [
    {
     "name": "stdout",
     "output_type": "stream",
     "text": [
      "[[1, 0, 0, 3.0, 1, 10.11], [2, 0, 0, 5.0, 2, 11.0]]\n",
      "[[2, 0, 0, 5.0, 2, 11.0], [4, 1, 1, 6.0, 4, 11.0], [3, 1, 1, 7.0, 2, 13.0]]\n",
      "[[4, 1, 1, 6.0, 4, 11.0], [3, 1, 1, 7.0, 2, 13.0], [6, 2, 2, 9.0, 3, 16.11]]\n",
      "[[3, 1, 1, 7.0, 2, 13.0], [6, 2, 2, 9.0, 3, 16.11]]\n"
     ]
    }
   ],
   "source": [
    "ora=sys.maxsize\n",
    "while(len(trav)!=0):\n",
    "    print(trav)\n",
    "    while(trav[0][5]>ora or trav[0][4] in ext_list):\n",
    "        trav.remove(trav[0])\n",
    "        if(len(trav)==0):\n",
    "            break\n",
    "    if(len(trav)!=0):\n",
    "        ext_list.append(trav[0][4])\n",
    "        list=[]\n",
    "        list1=[]\n",
    "        for j in range(n):\n",
    "            if(graph_path[trav[0][4]][j]!=0 and j!=source):\n",
    "                list.append([trav[0][0],trav[0][4],graph_path[trav[0][4]][j]+trav[0][3],j,graph_path[trav[0][4]][j]+trav[0][3]+graph_heu[j][dest]])\n",
    "                list1.append(j)\n",
    "        length=trav[0][0]\n",
    "        while(length>0):\n",
    "            if(path[length][2] in list1 ):\n",
    "                list.pop(list1.index(path[length][2]))\n",
    "                list1.pop(list1.index(path[length][2]))\n",
    "            length=path[length][1]\n",
    "        c=0\n",
    "        for i in range(len(list)):\n",
    "            path.append([k+i,list[i][0],list[i][1],list[i][2],list[i][3],list[i][4]])\n",
    "            if(dest!=list[i][3] and list[i][4]<ora and list[i][3] not in ext_list):\n",
    "                trav.insert(c,[k+i,list[i][0],list[i][1],list[i][2],list[i][3],list[i][4]])\n",
    "            elif(dest==list[i][3]):\n",
    "                if(ora>list[i][2]):\n",
    "                    ora=list[i][2]\n",
    "            c+=1\n",
    "        k=k+len(list)\n",
    "        for i in range(len(trav)-1):\n",
    "            for j in range(0,len(trav)-i-1):\n",
    "                if(trav[j][5]>trav[j+1][5]):\n",
    "                    temp=trav[j+1]\n",
    "                    trav[j+1]=trav[j]\n",
    "                    trav[j]=temp\n",
    "                if(trav[j][5]==trav[j+1][5] and trav[j][4]>trav[j+1][4]):\n",
    "                    temp=trav[j+1]\n",
    "                    trav[j+1]=trav[j]\n",
    "                    trav[j]=temp\n",
    "        trav.remove(trav[0])"
   ]
  },
  {
   "cell_type": "code",
   "execution_count": 7,
   "id": "18d547aa-670b-4b4e-a780-b5bb23b708ad",
   "metadata": {},
   "outputs": [
    {
     "name": "stdout",
     "output_type": "stream",
     "text": [
      "[[0], [1, 0, 0, 3.0, 1, 10.11], [2, 0, 0, 5.0, 2, 11.0], [3, 1, 1, 7.0, 2, 13.0], [4, 1, 1, 6.0, 4, 11.0], [5, 2, 2, 9.0, 1, 16.11], [6, 2, 2, 9.0, 3, 16.11], [7, 4, 4, 11.0, 6, 11.0]]\n"
     ]
    }
   ],
   "source": [
    "print(path)"
   ]
  },
  {
   "cell_type": "code",
   "execution_count": 8,
   "id": "61ad09c1-9de7-4479-a328-23dbb49f8364",
   "metadata": {},
   "outputs": [
    {
     "name": "stdout",
     "output_type": "stream",
     "text": [
      "[[6, 4, 1, 0]]\n"
     ]
    }
   ],
   "source": [
    "path_main=[]\n",
    "n=len(path)-1\n",
    "while(n>0):\n",
    "    if dest==path[n][4]:\n",
    "        d=[]\n",
    "        d.append(dest)\n",
    "        d.append(path[n][2])\n",
    "        length=path[n][1]\n",
    "        while(length>0):\n",
    "            d.append(path[length][2])\n",
    "            length=path[length][1]\n",
    "        path_main.append(d)\n",
    "    n=n-1\n",
    "print(path_main)"
   ]
  },
  {
   "cell_type": "code",
   "execution_count": 10,
   "id": "4dfbe118-1e28-4068-b6f3-553184d517b8",
   "metadata": {},
   "outputs": [
    {
     "data": {
      "image/png": "[encoded data removed]",
      "text/plain": [
       "<Figure size 640x480 with 1 Axes>"
      ]
     },
     "metadata": {},
     "output_type": "display_data"
    }
   ],
   "source": [
    "# First networkx library is imported\n",
    "# along with matplotlib\n",
    "import networkx as nx\n",
    "import matplotlib.pyplot as plt\n",
    "\n",
    "\n",
    "# Defining a Class\n",
    "class GraphVisualization:\n",
    "\n",
    "\tdef __init__(self):\n",
    "\t\t\n",
    "\t\t# visual is a list which stores all\n",
    "\t\t# the set of edges that constitutes a\n",
    "\t\t# graph\n",
    "\t\tself.visual = []\n",
    "\t\t\n",
    "\t# addEdge function inputs the vertices of an\n",
    "\t# edge and appends it to the visual list\n",
    "\tdef addEdge(self, a, b):\n",
    "\t\ttemp = [a, b]\n",
    "\t\tself.visual.append(temp)\n",
    "\t\t\n",
    "\t# In visualize function G is an object of\n",
    "\t# class Graph given by networkx G.add_edges_from(visual)\n",
    "\t# creates a graph with a given list\n",
    "\t# nx.draw_networkx(G) - plots the graph\n",
    "\t# plt.show() - displays the graph\n",
    "\tdef visualize(self):\n",
    "\t\tG = nx.Graph()\n",
    "\t\tG.add_edges_from(self.visual)\n",
    "\t\tnx.draw_networkx(G)\n",
    "\t\tplt.show()\n",
    "\n",
    "# Driver code\n",
    "G = GraphVisualization()\n",
    "n=len(path)-1\n",
    "while(n>0):\n",
    "    G.addNode()\n",
    "    G.addEdge(path[n][4],path[n][2])\n",
    "    n=n-1\n",
    "G.visualize()\n"
   ]
  },
  {
   "cell_type": "code",
   "execution_count": null,
   "id": "bae41f6b-ec5f-4667-a171-ed5de9396364",
   "metadata": {},
   "outputs": [],
   "source": []
  }
 ],
 "metadata": {
  "kernelspec": {
   "display_name": "Python 3 (ipykernel)",
   "language": "python",
   "name": "python3"
  },
  "language_info": {
   "codemirror_mode": {
    "name": "ipython",
    "version": 3
   },
   "file_extension": ".py",
   "mimetype": "text/x-python",
   "name": "python",
   "nbconvert_exporter": "python",
   "pygments_lexer": "ipython3",
   "version": "3.11.4"
  }
 },
 "nbformat": 4,
 "nbformat_minor": 5
}

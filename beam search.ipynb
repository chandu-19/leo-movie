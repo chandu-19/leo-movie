{
 "cells": [
  {
   "cell_type": "code",
   "execution_count": 1,
   "id": "a0d138d6-4137-4507-b53c-fbf9c093b06c",
   "metadata": {},
   "outputs": [],
   "source": [
    "import numpy as np"
   ]
  },
  {
   "cell_type": "code",
   "execution_count": 2,
   "id": "48a30dbd-2236-4339-af51-4b38a983f8c0",
   "metadata": {},
   "outputs": [
    {
     "name": "stdin",
     "output_type": "stream",
     "text": [
      "enter the number of nodes 7\n",
      "enter the first node:  0\n",
      "enter the second node:  1\n",
      "enter the heuristics:  3\n",
      "enter the path:  1\n",
      "enter the first node:  0\n",
      "enter the second node:  2\n",
      "enter the heuristics:  5\n",
      "enter the path:  1\n",
      "enter the first node:  1\n",
      "enter the second node:  2\n",
      "enter the heuristics:  4\n",
      "enter the path:  1\n",
      "enter the first node:  2\n",
      "enter the second node:  3\n",
      "enter the heuristics:  4\n",
      "enter the path:  1\n",
      "enter the first node:  3\n",
      "enter the second node:  5\n",
      "enter the heuristics:  6\n",
      "enter the path:  1\n",
      "enter the first node:  1\n",
      "enter the second node:  4\n",
      "enter the heuristics:  3\n",
      "enter the path:  1\n",
      "enter the first node:  4\n",
      "enter the second node:  6\n",
      "enter the heuristics:  5\n",
      "enter the path:  1\n",
      "enter the first node:  3\n",
      "enter the second node:  6\n",
      "enter the heuristics:  7.11\n",
      "enter the path:  0\n",
      "enter the first node:  2\n",
      "enter the second node:  6\n",
      "enter the heuristics:  6\n",
      "enter the path:  0\n",
      "enter the first node:  1\n",
      "enter the second node:  6\n",
      "enter the heuristics:  7.11\n",
      "enter the path:  0\n",
      "enter the first node:  -1\n",
      "enter the second node:  -1\n",
      "enter the heuristics:  -1\n",
      "enter the path:  -1\n"
     ]
    },
    {
     "name": "stdout",
     "output_type": "stream",
     "text": [
      "[[0.   3.   5.   0.   0.   0.   0.  ]\n",
      " [3.   0.   4.   0.   3.   0.   7.11]\n",
      " [5.   4.   0.   4.   0.   0.   6.  ]\n",
      " [0.   0.   4.   0.   0.   6.   7.11]\n",
      " [0.   3.   0.   0.   0.   0.   5.  ]\n",
      " [0.   0.   0.   6.   0.   0.   0.  ]\n",
      " [0.   7.11 6.   7.11 5.   0.   0.  ]]\n",
      "[[0. 1. 1. 0. 0. 0. 0.]\n",
      " [1. 0. 1. 0. 1. 0. 0.]\n",
      " [1. 1. 0. 1. 0. 0. 0.]\n",
      " [0. 0. 1. 0. 0. 1. 0.]\n",
      " [0. 1. 0. 0. 0. 0. 1.]\n",
      " [0. 0. 0. 1. 0. 0. 0.]\n",
      " [0. 0. 0. 0. 1. 0. 0.]]\n"
     ]
    },
    {
     "name": "stdin",
     "output_type": "stream",
     "text": [
      "enter the source node:  0\n",
      "enter the dest node:  6\n"
     ]
    }
   ],
   "source": [
    "n=int(input(\"enter the number of nodes\"))\n",
    "graph_heu=np.zeros([n,n])\n",
    "graph_path=np.zeros([n,n])\n",
    "s = 1\n",
    "p = 1\n",
    "s=int(input(\"enter the first node: \"))\n",
    "p=int(input(\"enter the second node: \"))\n",
    "heu=float(input(\"enter the heuristics: \"))\n",
    "pat=int(input(\"enter the path: \"))\n",
    "while(s!=-1 and p!=-1 and p!=-1):\n",
    "    graph_heu[s][p]=heu\n",
    "    graph_heu[p][s]=heu\n",
    "    graph_path[p][s]=pat\n",
    "    graph_path[s][p]=pat\n",
    "    s=int(input(\"enter the first node: \"))\n",
    "    p=int(input(\"enter the second node: \"))\n",
    "    heu=float(input(\"enter the heuristics: \"))\n",
    "    pat=int(input(\"enter the path: \"))\n",
    "print(graph_heu)\n",
    "print(graph_path)\n",
    "source=int(input(\"enter the source node: \"))\n",
    "dest=int(input(\"enter the dest node: \"))"
   ]
  },
  {
   "cell_type": "code",
   "execution_count": 20,
   "id": "295d3749-67a9-468c-85c7-e063ce28c29d",
   "metadata": {},
   "outputs": [
    {
     "name": "stdin",
     "output_type": "stream",
     "text": [
      "enter the beam width:  2\n"
     ]
    }
   ],
   "source": [
    "bw=int(input(\"enter the beam width: \"))\n",
    "trav=[]\n",
    "path=[]\n",
    "path.append([source])\n",
    "count=0\n",
    "k=1"
   ]
  },
  {
   "cell_type": "code",
   "execution_count": 22,
   "id": "3275b5f7-353d-4771-bbdd-8edb16d2d205",
   "metadata": {},
   "outputs": [
    {
     "name": "stdout",
     "output_type": "stream",
     "text": [
      "[[0, 0, 6.0, 2], [0, 0, 7.11, 1]]\n"
     ]
    }
   ],
   "source": [
    "if(count==0):\n",
    "    list=[]\n",
    "    for i in range(n):\n",
    "        if(graph_path[source][i]!=0 and i!=source):\n",
    "            list.append([count,source,graph_heu[dest][i],i])\n",
    "    co=1\n",
    "    for i in list:\n",
    "        path.append([co,i[0],i[1],i[2],i[3]])\n",
    "        co+=1\n",
    "    for i in range(len(list)):\n",
    "        for j in range(0,len(list)-i-1):\n",
    "            if(list[j][3]<list[j+1][3]):\n",
    "                temp=list[j+1]\n",
    "                list[j+1]=list[j]\n",
    "                list[j]=temp\n",
    "    print(list)\n",
    "    a=[]\n",
    "    for i in list:\n",
    "        a.append([k,i[0],i[1],i[2],i[3]])\n",
    "        k+=1\n",
    "    trav.append([0,a])\n",
    "    count+=1"
   ]
  },
  {
   "cell_type": "code",
   "execution_count": 13,
   "id": "c1f9da02-cd09-415a-bfee-c8950f7c0baf",
   "metadata": {},
   "outputs": [
    {
     "name": "stdout",
     "output_type": "stream",
     "text": [
      "[[1, 0, 0, 6.0, 2], [2, 0, 0, 7.11, 1]]\n"
     ]
    }
   ],
   "source": [
    "flag=1\n",
    "while(flag==0 or len(trav)==0):\n",
    "    for i in trav[0]:\n",
    "        if(trav[0][0]<=len(trav)):"
   ]
  },
  {
   "cell_type": "code",
   "execution_count": 24,
   "id": "add3efb5-5359-4f1d-9680-3b3ae62ef766",
   "metadata": {},
   "outputs": [
    {
     "data": {
      "text/plain": [
       "[0, [[1, 0, 0, 6.0, 2], [2, 0, 0, 7.11, 1]]]"
      ]
     },
     "execution_count": 24,
     "metadata": {},
     "output_type": "execute_result"
    }
   ],
   "source": [
    "trav[0]"
   ]
  },
  {
   "cell_type": "code",
   "execution_count": null,
   "id": "96ddfef9-f182-4cd9-8baf-d35391a4b48b",
   "metadata": {},
   "outputs": [],
   "source": []
  }
 ],
 "metadata": {
  "kernelspec": {
   "display_name": "Python 3 (ipykernel)",
   "language": "python",
   "name": "python3"
  },
  "language_info": {
   "codemirror_mode": {
    "name": "ipython",
    "version": 3
   },
   "file_extension": ".py",
   "mimetype": "text/x-python",
   "name": "python",
   "nbconvert_exporter": "python",
   "pygments_lexer": "ipython3",
   "version": "3.11.4"
  }
 },
 "nbformat": 4,
 "nbformat_minor": 5
}

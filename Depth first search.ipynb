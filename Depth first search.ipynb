{
 "cells": [
  {
   "cell_type": "code",
   "execution_count": 12,
   "id": "4f2d82c4-2b21-4335-ad63-8252ccaabaf6",
   "metadata": {},
   "outputs": [],
   "source": [
    "import numpy as np"
   ]
  },
  {
   "cell_type": "code",
   "execution_count": 13,
   "id": "2572ab76-1ddc-42de-bb1b-d4e186535225",
   "metadata": {},
   "outputs": [
    {
     "name": "stdin",
     "output_type": "stream",
     "text": [
      "enter the number of nodes 10\n",
      "enter the first node:  0\n",
      "enter the second node:  1\n",
      "enter the first node:  1\n",
      "enter the second node:  5\n",
      "enter the first node:  1\n",
      "enter the second node:  3\n",
      "enter the first node:  3\n",
      "enter the second node:  4\n",
      "enter the first node:  4\n",
      "enter the second node:  7\n",
      "enter the first node:  7\n",
      "enter the second node:  9\n",
      "enter the first node:  9\n",
      "enter the second node:  6\n",
      "enter the first node:  6\n",
      "enter the second node:  8\n",
      "enter the first node:  7\n",
      "enter the second node:  5\n",
      "enter the first node:  8\n",
      "enter the second node:  2\n",
      "enter the first node:  2\n",
      "enter the second node:  0\n",
      "enter the first node:  0\n",
      "enter the second node:  5\n",
      "enter the first node:  -1\n",
      "enter the second node:  -1\n"
     ]
    },
    {
     "name": "stdout",
     "output_type": "stream",
     "text": [
      "[[0. 1. 1. 0. 0. 1. 0. 0. 0. 0.]\n",
      " [1. 0. 0. 1. 0. 1. 0. 0. 0. 0.]\n",
      " [1. 0. 0. 0. 0. 0. 0. 0. 1. 0.]\n",
      " [0. 1. 0. 0. 1. 0. 0. 0. 0. 0.]\n",
      " [0. 0. 0. 1. 0. 0. 0. 1. 0. 0.]\n",
      " [1. 1. 0. 0. 0. 0. 0. 1. 0. 0.]\n",
      " [0. 0. 0. 0. 0. 0. 0. 0. 1. 1.]\n",
      " [0. 0. 0. 0. 1. 1. 0. 0. 0. 1.]\n",
      " [0. 0. 1. 0. 0. 0. 1. 0. 0. 0.]\n",
      " [0. 0. 0. 0. 0. 0. 1. 1. 0. 0.]]\n"
     ]
    },
    {
     "name": "stdin",
     "output_type": "stream",
     "text": [
      "enter the source node:  0\n",
      "enter the dest node:  6\n"
     ]
    }
   ],
   "source": [
    "n=int(input(\"enter the number of nodes\"))\n",
    "graph=np.zeros([n,n])\n",
    "s = 1\n",
    "p = 1\n",
    "s=int(input(\"enter the first node: \"))\n",
    "p=int(input(\"enter the second node: \"))\n",
    "while(s!=-1 and p!=-1):\n",
    "    graph[s][p]=1\n",
    "    graph[p][s]=1\n",
    "    s=int(input(\"enter the first node: \"))\n",
    "    p=int(input(\"enter the second node: \"))\n",
    "print(graph)\n",
    "source=int(input(\"enter the source node: \"))\n",
    "dest=int(input(\"enter the dest node: \"))"
   ]
  },
  {
   "cell_type": "code",
   "execution_count": 14,
   "id": "119bad0d-638d-4c21-a0e5-b48b40ac9722",
   "metadata": {},
   "outputs": [],
   "source": [
    "trav=[]\n",
    "path=[]\n",
    "path.append([source])\n",
    "count=0\n",
    "k=1"
   ]
  },
  {
   "cell_type": "code",
   "execution_count": 15,
   "id": "d68c1e06-22b4-49a0-89f4-dd397b67ab25",
   "metadata": {},
   "outputs": [
    {
     "name": "stdout",
     "output_type": "stream",
     "text": [
      "[[0], [1, 0, 0, 1], [2, 0, 0, 2], [3, 0, 0, 5]]\n"
     ]
    }
   ],
   "source": [
    "if(count==0):\n",
    "    list=[]\n",
    "    for i in range(n):\n",
    "        if(graph[source][i]==1 and i!=source):\n",
    "            trav.append([k,count,source,i])\n",
    "            path.append([k,count,source,i])\n",
    "            k+=1\n",
    "    count+=1\n",
    "print(path)"
   ]
  },
  {
   "cell_type": "code",
   "execution_count": 16,
   "id": "98dcd1e1-7a3a-4eb8-9e87-1a68887c967b",
   "metadata": {},
   "outputs": [
    {
     "name": "stdout",
     "output_type": "stream",
     "text": [
      "[[4, 1, 1, 3], [1, 0, 0, 1], [2, 0, 0, 2], [3, 0, 0, 5]]\n",
      "[[4, 1, 1, 3], [5, 1, 1, 5], [1, 0, 0, 1], [2, 0, 0, 2], [3, 0, 0, 5]]\n",
      "[[4, 1, 1, 3], [5, 1, 1, 5], [2, 0, 0, 2], [3, 0, 0, 5]]\n",
      "[[6, 4, 3, 4], [4, 1, 1, 3], [5, 1, 1, 5], [2, 0, 0, 2], [3, 0, 0, 5]]\n",
      "[[6, 4, 3, 4], [5, 1, 1, 5], [2, 0, 0, 2], [3, 0, 0, 5]]\n",
      "[[7, 6, 4, 7], [6, 4, 3, 4], [5, 1, 1, 5], [2, 0, 0, 2], [3, 0, 0, 5]]\n",
      "[[7, 6, 4, 7], [5, 1, 1, 5], [2, 0, 0, 2], [3, 0, 0, 5]]\n",
      "[[8, 7, 7, 5], [7, 6, 4, 7], [5, 1, 1, 5], [2, 0, 0, 2], [3, 0, 0, 5]]\n",
      "[[8, 7, 7, 5], [9, 7, 7, 9], [7, 6, 4, 7], [5, 1, 1, 5], [2, 0, 0, 2], [3, 0, 0, 5]]\n",
      "[[8, 7, 7, 5], [9, 7, 7, 9], [5, 1, 1, 5], [2, 0, 0, 2], [3, 0, 0, 5]]\n",
      "[[10, 9, 9, 6], [9, 7, 7, 9], [5, 1, 1, 5], [2, 0, 0, 2], [3, 0, 0, 5]]\n"
     ]
    }
   ],
   "source": [
    "while(len(trav)!=0):\n",
    "    list=[]\n",
    "    for j in range(n):\n",
    "        if(graph[trav[0][3]][j]==1 and j!=source):\n",
    "            list.append(j)\n",
    "    length=trav[0][0]\n",
    "    while(length>0):\n",
    "        if(path[length][2] in list[1]):\n",
    "            list.remove(path[length][2])\n",
    "        length=path[length][1]\n",
    "    if(len(list)>0):\n",
    "        c=0\n",
    "        for i in list:\n",
    "            path.append([k,trav[c][0],trav[c][3],i])\n",
    "            trav.insert(c,[k,trav[c][0],trav[c][3],i])\n",
    "            print(trav)\n",
    "            c+=1\n",
    "            k=k+1\n",
    "        if(dest in list):\n",
    "            trav.clear()\n",
    "            break\n",
    "        else:\n",
    "            trav.pop(c)\n",
    "        print(trav)\n",
    "    else:\n",
    "        trav.remove(trav[0])"
   ]
  },
  {
   "cell_type": "code",
   "execution_count": 17,
   "id": "a827a07a-ead7-4e05-a338-87e083121870",
   "metadata": {},
   "outputs": [
    {
     "name": "stdout",
     "output_type": "stream",
     "text": [
      "[[0], [1, 0, 0, 1], [2, 0, 0, 2], [3, 0, 0, 5], [4, 1, 1, 3], [5, 1, 1, 5], [6, 4, 3, 4], [7, 6, 4, 7], [8, 7, 7, 5], [9, 7, 7, 9], [10, 9, 9, 6]]\n"
     ]
    }
   ],
   "source": [
    "print(path)"
   ]
  },
  {
   "cell_type": "code",
   "execution_count": 18,
   "id": "662d6c14-0d12-4a44-8995-81444c1aef42",
   "metadata": {},
   "outputs": [
    {
     "name": "stdout",
     "output_type": "stream",
     "text": [
      "[[6, 9, 7, 4, 3, 1, 0]]\n"
     ]
    }
   ],
   "source": [
    "path_main=[]\n",
    "n=len(path)-1\n",
    "while(n>0):\n",
    "    if dest==path[n][3]:\n",
    "        d=[]\n",
    "        d.append(dest)\n",
    "        d.append(path[n][2])\n",
    "        length=path[n][1]\n",
    "        while(length>0):\n",
    "            d.append(path[length][2])\n",
    "            length=path[length][1]\n",
    "        path_main.append(d)\n",
    "    n=n-1\n",
    "print(path_main)"
   ]
  },
  {
   "cell_type": "code",
   "execution_count": null,
   "id": "4f90af4d-e8ca-4478-a505-0b7de999fccb",
   "metadata": {},
   "outputs": [],
   "source": []
  }
 ],
 "metadata": {
  "kernelspec": {
   "display_name": "Python 3 (ipykernel)",
   "language": "python",
   "name": "python3"
  },
  "language_info": {
   "codemirror_mode": {
    "name": "ipython",
    "version": 3
   },
   "file_extension": ".py",
   "mimetype": "text/x-python",
   "name": "python",
   "nbconvert_exporter": "python",
   "pygments_lexer": "ipython3",
   "version": "3.11.4"
  }
 },
 "nbformat": 4,
 "nbformat_minor": 5
}

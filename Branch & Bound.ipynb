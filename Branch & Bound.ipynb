{
 "cells": [
  {
   "cell_type": "code",
   "execution_count": 1,
   "id": "b498d443-2c16-41b5-8901-a4800aa3f837",
   "metadata": {},
   "outputs": [],
   "source": [
    "import numpy as np\n",
    "import sys"
   ]
  },
  {
   "cell_type": "code",
   "execution_count": 2,
   "id": "e037daab-0544-4a0a-b447-a69993b21bf7",
   "metadata": {},
   "outputs": [
    {
     "name": "stdin",
     "output_type": "stream",
     "text": [
      "enter the number of nodes 7\n",
      "enter the first node:  0\n",
      "enter the second node:  1\n",
      "enter the path:  3\n",
      "enter the first node:  0\n",
      "enter the second node:  2\n",
      "enter the path:  5\n",
      "enter the first node:  1\n",
      "enter the second node:  2\n",
      "enter the path:  4\n",
      "enter the first node:  2\n",
      "enter the second node:  3\n",
      "enter the path:  4\n",
      "enter the first node:  3\n",
      "enter the second node:  5\n",
      "enter the path:  6\n",
      "enter the first node:  1\n",
      "enter the second node:  4\n",
      "enter the path:  3\n",
      "enter the first node:  4\n",
      "enter the second node:  6\n",
      "enter the path:  5\n",
      "enter the first node:  -1\n",
      "enter the second node:  -1\n",
      "enter the path:  -1\n"
     ]
    },
    {
     "name": "stdout",
     "output_type": "stream",
     "text": [
      "[[0. 3. 5. 0. 0. 0. 0.]\n",
      " [3. 0. 4. 0. 3. 0. 0.]\n",
      " [5. 4. 0. 4. 0. 0. 0.]\n",
      " [0. 0. 4. 0. 0. 6. 0.]\n",
      " [0. 3. 0. 0. 0. 0. 5.]\n",
      " [0. 0. 0. 6. 0. 0. 0.]\n",
      " [0. 0. 0. 0. 5. 0. 0.]]\n"
     ]
    },
    {
     "name": "stdin",
     "output_type": "stream",
     "text": [
      "enter the source node:  0\n",
      "enter the dest node:  6\n"
     ]
    }
   ],
   "source": [
    "n=int(input(\"enter the number of nodes\"))\n",
    "graph_path=np.zeros([n,n])\n",
    "s = 1\n",
    "p = 1\n",
    "s=int(input(\"enter the first node: \"))\n",
    "p=int(input(\"enter the second node: \"))\n",
    "pat=int(input(\"enter the path: \"))\n",
    "while(s!=-1 and p!=-1 and p!=-1):\n",
    "    graph_path[p][s]=pat\n",
    "    graph_path[s][p]=pat\n",
    "    s=int(input(\"enter the first node: \"))\n",
    "    p=int(input(\"enter the second node: \"))\n",
    "    pat=int(input(\"enter the path: \"))\n",
    "print(graph_path)\n",
    "source=int(input(\"enter the source node: \"))\n",
    "dest=int(input(\"enter the dest node: \"))"
   ]
  },
  {
   "cell_type": "code",
   "execution_count": 3,
   "id": "de655c59-d913-4de7-92b7-e00a09d58450",
   "metadata": {},
   "outputs": [],
   "source": [
    "trav=[]\n",
    "path=[]\n",
    "path.append([source])\n",
    "count=0\n",
    "k=1"
   ]
  },
  {
   "cell_type": "code",
   "execution_count": 4,
   "id": "5627543a-4857-48f0-b165-1930358e0db8",
   "metadata": {},
   "outputs": [
    {
     "name": "stdout",
     "output_type": "stream",
     "text": [
      "[[0, 0, 3.0, 1], [0, 0, 5.0, 2]]\n",
      "0\n",
      "1\n"
     ]
    }
   ],
   "source": [
    "if(count==0):\n",
    "    list=[]\n",
    "    list1=[]\n",
    "    for i in range(n):\n",
    "        if(graph_path[source][i]!=0 and i!=source):\n",
    "            list.append([count,source,graph_path[source][i],i])\n",
    "            list1.append(i)\n",
    "    list_copy=list.copy()\n",
    "    for i in range(len(list)-1):\n",
    "        for j in range(0,len(list)-i-1):\n",
    "            if(list[j][2]>list[j+1][2]):\n",
    "                temp=list[j+1]\n",
    "                list[j+1]=list[j]\n",
    "                list[j]=temp\n",
    "    print(list)\n",
    "    c=0\n",
    "    for i in range(len(list)):\n",
    "        print(i)\n",
    "        trav.insert(c,[(list1.index(list[i][3]))+1,list[i][0],list[i][1],list[i][2],list[i][3]])\n",
    "        path.append([k+i,list_copy[i][0],list_copy[i][1],list_copy[i][2],list_copy[i][3]])\n",
    "        c+=1\n",
    "    k+=len(list)\n",
    "    count+=1"
   ]
  },
  {
   "cell_type": "code",
   "execution_count": 5,
   "id": "9a0b967d-cccc-44c0-833c-99c0d882f432",
   "metadata": {},
   "outputs": [
    {
     "name": "stdout",
     "output_type": "stream",
     "text": [
      "[1, 0, 0, 3.0, 1]\n",
      "[[1, 1, 7.0, 2], [1, 1, 6.0, 4]]\n",
      "[2, 0, 0, 5.0, 2]\n",
      "[[2, 2, 9.0, 1], [2, 2, 9.0, 3]]\n",
      "[4, 1, 1, 6.0, 4]\n",
      "[[4, 4, 9.0, 1], [4, 4, 11.0, 6]]\n",
      "[3, 1, 1, 7.0, 2]\n",
      "[[3, 2, 11.0, 1], [3, 2, 11.0, 3]]\n",
      "[5, 2, 2, 9.0, 1]\n",
      "[[5, 1, 13.0, 2], [5, 1, 12.0, 4]]\n",
      "[6, 2, 2, 9.0, 3]\n",
      "[[6, 3, 13.0, 2], [6, 3, 15.0, 5]]\n"
     ]
    }
   ],
   "source": [
    "ora=sys.maxsize\n",
    "while(len(trav)!=0):\n",
    "    print(trav[0])\n",
    "    list=[]\n",
    "    list1=[]\n",
    "    for j in range(n):\n",
    "        if(graph_path[trav[0][4]][j]!=0 and j!=source):\n",
    "            list.append([trav[0][0],trav[0][4],graph_path[trav[0][4]][j]+trav[0][3],j])\n",
    "            list1.append(j)\n",
    "    print(list)\n",
    "    length=trav[0][0]\n",
    "    while(length>0):\n",
    "        if(path[length][2] in list1):\n",
    "            list.pop(list1.index(path[length][2]))\n",
    "            list1.pop(list1.index(path[length][2]))\n",
    "        length=path[length][1]\n",
    "    c=0\n",
    "    for i in range(len(list)):\n",
    "        path.append([k+i,list[i][0],list[i][1],list[i][2],list[i][3]])\n",
    "        if(dest!=list[i][3] and list[i][2]<ora):\n",
    "            trav.insert(c,[k+i,list[i][0],list[i][1],list[i][2],list[i][3]])\n",
    "        else:\n",
    "            if(ora>list[i][2]):\n",
    "                ora=list[i][2]\n",
    "        c+=1\n",
    "    k=k+len(list)\n",
    "    for i in range(len(trav)-1):\n",
    "        for j in range(0,len(trav)-i-1):\n",
    "            if(trav[j][3]>trav[j+1][3]):\n",
    "                temp=trav[j+1]\n",
    "                trav[j+1]=trav[j]\n",
    "                trav[j]=temp\n",
    "    trav.remove(trav[0])"
   ]
  },
  {
   "cell_type": "code",
   "execution_count": 6,
   "id": "b353cc20-0456-4fd4-9b9a-cdf01e36f760",
   "metadata": {},
   "outputs": [
    {
     "name": "stdout",
     "output_type": "stream",
     "text": [
      "[[6, 4, 1, 0]]\n"
     ]
    }
   ],
   "source": [
    "path_main=[]\n",
    "n=len(path)-1\n",
    "while(n>0):\n",
    "    if dest==path[n][4]:\n",
    "        d=[]\n",
    "        d.append(dest)\n",
    "        d.append(path[n][2])\n",
    "        length=path[n][1]\n",
    "        while(length>0):\n",
    "            d.append(path[length][2])\n",
    "            length=path[length][1]\n",
    "        path_main.append(d)\n",
    "    n=n-1\n",
    "print(path_main)"
   ]
  },
  {
   "cell_type": "code",
   "execution_count": 7,
   "id": "a5ef1cfa-2484-4061-9957-fd1b587caafb",
   "metadata": {},
   "outputs": [
    {
     "name": "stdout",
     "output_type": "stream",
     "text": [
      "[[0], [1, 0, 0, 3.0, 1], [2, 0, 0, 5.0, 2], [3, 1, 1, 7.0, 2], [4, 1, 1, 6.0, 4], [5, 2, 2, 9.0, 1], [6, 2, 2, 9.0, 3], [7, 4, 4, 11.0, 6], [8, 3, 2, 11.0, 3], [9, 5, 1, 12.0, 4], [10, 6, 3, 15.0, 5]]\n"
     ]
    }
   ],
   "source": [
    "print(path)"
   ]
  },
  {
   "cell_type": "code",
   "execution_count": null,
   "id": "d092ec76-eae7-4b85-82af-37aebab8a54a",
   "metadata": {},
   "outputs": [],
   "source": []
  }
 ],
 "metadata": {
  "kernelspec": {
   "display_name": "Python 3 (ipykernel)",
   "language": "python",
   "name": "python3"
  },
  "language_info": {
   "codemirror_mode": {
    "name": "ipython",
    "version": 3
   },
   "file_extension": ".py",
   "mimetype": "text/x-python",
   "name": "python",
   "nbconvert_exporter": "python",
   "pygments_lexer": "ipython3",
   "version": "3.11.4"
  }
 },
 "nbformat": 4,
 "nbformat_minor": 5
}
